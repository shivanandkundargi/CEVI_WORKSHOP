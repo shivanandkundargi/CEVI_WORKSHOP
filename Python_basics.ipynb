{
  "nbformat": 4,
  "nbformat_minor": 0,
  "metadata": {
    "colab": {
      "name": "Python_basics.ipynb",
      "provenance": [],
      "collapsed_sections": [
        "DvDmDdfOhO8I",
        "3U3Y9s1zmWBe",
        "7KrIM8iJ9FM4",
        "h8kO_Ye633-M",
        "ZJLv1L14VhNN",
        "umyNHN1tYYiO",
        "eRxneb7wIiTl",
        "BxVPOcwunNkk",
        "_kIZ2ZrdqwkR",
        "xD4wOaH1L5E3",
        "n-aY3RcfjCJd",
        "fTyxmLjZuGbb",
        "iEjsBOUWw16n",
        "ttOtYQrQLoeN",
        "7SzlZ6LHbn9P",
        "WdYOxoxEybKg",
        "VwQsYHVpGSH4",
        "jK14DQ5iLc6Y"
      ],
      "authorship_tag": "ABX9TyPBoKo9fAU/xwVzaIvkwRae",
      "include_colab_link": true
    },
    "kernelspec": {
      "name": "python3",
      "display_name": "Python 3"
    },
    "language_info": {
      "name": "python"
    }
  },
  "cells": [
    {
      "cell_type": "markdown",
      "metadata": {
        "id": "view-in-github",
        "colab_type": "text"
      },
      "source": [
        "<a href=\"https://colab.research.google.com/github/shivanandkundargi/PYTHON_BASICS/blob/main/Python_basics.ipynb\" target=\"_parent\"><img src=\"https://colab.research.google.com/assets/colab-badge.svg\" alt=\"Open In Colab\"/></a>"
      ]
    },
    {
      "cell_type": "markdown",
      "metadata": {
        "id": "DvDmDdfOhO8I"
      },
      "source": [
        "\n",
        "\n",
        "# **Variables,operators,input format**\n"
      ]
    },
    {
      "cell_type": "code",
      "metadata": {
        "colab": {
          "base_uri": "https://localhost:8080/"
        },
        "id": "A1U7WBoJhePo",
        "outputId": "14e371c0-ce0a-424e-e931-f170626f5515"
      },
      "source": [
        "#a,b,c=variables\n",
        "a=\"HELLO\"\n",
        "b=69\n",
        "c=69.6969\n",
        "print(a,b,c)"
      ],
      "execution_count": null,
      "outputs": [
        {
          "output_type": "stream",
          "text": [
            "HELLO 69 69.6969\n"
          ],
          "name": "stdout"
        }
      ]
    },
    {
      "cell_type": "code",
      "metadata": {
        "colab": {
          "base_uri": "https://localhost:8080/"
        },
        "id": "tcZyTovGjt63",
        "outputId": "a1e3ef23-0a22-48dd-9169-037150f50ce6"
      },
      "source": [
        "# whole division\n",
        "a=5\n",
        "b=2\n",
        "c=a//b\n",
        "print(c)\n",
        "# raise to power\n",
        "d=a**b #a^b\n",
        "print(d)"
      ],
      "execution_count": null,
      "outputs": [
        {
          "output_type": "stream",
          "text": [
            "2\n",
            "25\n"
          ],
          "name": "stdout"
        }
      ]
    },
    {
      "cell_type": "code",
      "metadata": {
        "colab": {
          "base_uri": "https://localhost:8080/"
        },
        "id": "VI4WV6R-kTRV",
        "outputId": "0971e029-dad8-459c-90ba-4d639a10b45a"
      },
      "source": [
        "#input by default will be string\n",
        "a=input()\n",
        "print(a)\n",
        "print(type(a))\n",
        "b=int(a)\n",
        "print(type(b))\n"
      ],
      "execution_count": null,
      "outputs": [
        {
          "output_type": "stream",
          "text": [
            "5\n",
            "5\n",
            "<class 'str'>\n",
            "<class 'int'>\n"
          ],
          "name": "stdout"
        }
      ]
    },
    {
      "cell_type": "markdown",
      "metadata": {
        "id": "3U3Y9s1zmWBe"
      },
      "source": [
        "# **strings,string slicing and string functions**\n",
        "[STRING FUNCTIONS](https://www.w3schools.com/python/python_ref_string.asp)"
      ]
    },
    {
      "cell_type": "code",
      "metadata": {
        "colab": {
          "base_uri": "https://localhost:8080/"
        },
        "id": "u_vmZBxlo-R2",
        "outputId": "d7e50200-002b-4db8-b196-d6ff783a6169"
      },
      "source": [
        "a=\"This is python\"\n",
        "print(a[:])\n",
        "print(a[::-1])\n",
        "print(a[0:len(a)])\n",
        "print(a[::2])\n",
        "\n",
        "x=a.upper()\n",
        "print(x)\n"
      ],
      "execution_count": null,
      "outputs": [
        {
          "output_type": "stream",
          "text": [
            "This is python\n",
            "nohtyp si sihT\n",
            "This is python\n",
            "Ti spto\n",
            "THIS IS PYTHON\n"
          ],
          "name": "stdout"
        }
      ]
    },
    {
      "cell_type": "markdown",
      "metadata": {
        "id": "7KrIM8iJ9FM4"
      },
      "source": [
        "# **LISTS AND TUPLES**\n",
        "[LIST FUNCTIONS](https://www.w3schools.com/python/python_ref_list.asp)\n",
        "\n",
        "[TUPLES BASICS](https://www.w3schools.com/python/python_tuples.asp)"
      ]
    },
    {
      "cell_type": "code",
      "metadata": {
        "colab": {
          "base_uri": "https://localhost:8080/"
        },
        "id": "7rKWklCW9N4x",
        "outputId": "1444ab85-39b7-4cfd-f535-cd930b9ff01f"
      },
      "source": [
        "#lISTS ARE MUTABLE\n",
        "a=[] #declaration of an empty list\n",
        "a=[1,1.99,\"apple\"] #lists  can take any data types\n",
        "print(a)\n",
        "b=[1,2,3,4,5,6]\n",
        "print(b[::])#list slicing\n",
        "print(b[:-3])\n",
        "print(b[::-1])\n",
        "c=[]\n",
        "c=a+b\n",
        "print(c)\n",
        "c.append(\"I am shiv\")\n",
        "print(c)\n",
        "print(c.index(1.99))\n",
        "c.remove(\"I am shiv\")\n",
        "print(c)\n",
        "\n"
      ],
      "execution_count": null,
      "outputs": [
        {
          "output_type": "stream",
          "text": [
            "[1, 1.99, 'apple']\n",
            "[1, 2, 3, 4, 5, 6]\n",
            "[1, 2, 3]\n",
            "[6, 5, 4, 3, 2, 1]\n",
            "[1, 1.99, 'apple', 1, 2, 3, 4, 5, 6]\n",
            "[1, 1.99, 'apple', 1, 2, 3, 4, 5, 6, 'I am shiv']\n",
            "1\n",
            "[1, 1.99, 'apple', 1, 2, 3, 4, 5, 6]\n"
          ],
          "name": "stdout"
        }
      ]
    },
    {
      "cell_type": "code",
      "metadata": {
        "id": "WEDDh11zEi2X",
        "colab": {
          "base_uri": "https://localhost:8080/"
        },
        "outputId": "d29510ac-9a91-4dae-e356-d7b11fa98cbd"
      },
      "source": [
        "# List comprehension\n",
        "#printing prime numbers\n",
        "n=int(input())\n",
        "a=[i for i in range(2,n) if all(i%j!=0 for j in range(2,i)) ]\n",
        "print(a)"
      ],
      "execution_count": null,
      "outputs": [
        {
          "output_type": "stream",
          "text": [
            "20\n",
            "[2, 3, 5, 7, 11, 13, 17, 19]\n"
          ],
          "name": "stdout"
        }
      ]
    },
    {
      "cell_type": "code",
      "metadata": {
        "colab": {
          "base_uri": "https://localhost:8080/"
        },
        "id": "pVqYOqrrzfGG",
        "outputId": "9d739be4-e86d-4320-ee67-19cf71d2ba07"
      },
      "source": [
        "#Tuples are immutable\n",
        "#deleting tuple element\n",
        "x=(1,2,3)\n",
        "print(x)\n",
        "list(x)\n",
        "list(y)\n",
        "y=list(x)\n",
        "y.pop()\n",
        "z=tuple(y)\n",
        "print(z)\n",
        "#appending tuples\n",
        "a=x\n",
        "print(a)\n",
        "y=(4,5)\n",
        "a+=y\n",
        "print(a)\n",
        "#unpacking tuples\n",
        "s=(1,2,3)\n",
        "(a,b,v)=s\n",
        "print(a)\n",
        "print(b)\n",
        "print(v)"
      ],
      "execution_count": null,
      "outputs": [
        {
          "output_type": "stream",
          "text": [
            "(1, 2, 3)\n",
            "(1, 2)\n",
            "(1, 2, 3)\n",
            "(1, 2, 3, 4, 5)\n",
            "1\n",
            "2\n",
            "3\n"
          ],
          "name": "stdout"
        }
      ]
    },
    {
      "cell_type": "markdown",
      "metadata": {
        "id": "h8kO_Ye633-M"
      },
      "source": [
        "# **DICTIONARY AND SETS**\n",
        "[DICTIONARY FUNCTIONS](https://www.w3schools.com/python/python_dictionaries_methods.asp)\n",
        "\n",
        "[SET FUNCTIONS](https://www.w3schools.com/python/python_sets_methods.asp)"
      ]
    },
    {
      "cell_type": "code",
      "metadata": {
        "colab": {
          "base_uri": "https://localhost:8080/"
        },
        "id": "dnZz1Q203_XZ",
        "outputId": "a17726b6-a5d3-4fb4-9f3d-1e9472aa05c0"
      },
      "source": [
        "dict={1:\"ram\",2:\"rahim\",3:\"allah\"}\n",
        "#accesing keys\n",
        "print(dict.keys())\n",
        "#accessing values\n",
        "print(dict.values())\n",
        "# get method\n",
        "a=dict.get(1)\n",
        "print(a)\n"
      ],
      "execution_count": null,
      "outputs": [
        {
          "output_type": "stream",
          "text": [
            "dict_keys([1, 2, 3])\n",
            "dict_values(['ram', 'rahim', 'allah'])\n",
            "ram\n"
          ],
          "name": "stdout"
        }
      ]
    },
    {
      "cell_type": "code",
      "metadata": {
        "colab": {
          "base_uri": "https://localhost:8080/"
        },
        "id": "tMnTlP-vHb_h",
        "outputId": "d1d64665-81ec-4a3a-d3e6-d6a99f9584d7"
      },
      "source": [
        "#sets\n",
        "x={1,2,1,2,3,4,5}\n",
        "print(x)\n",
        "print(type(x))\n",
        "x.add(6)\n",
        "print(x)"
      ],
      "execution_count": null,
      "outputs": [
        {
          "output_type": "stream",
          "text": [
            "{1, 2, 3, 4, 5}\n",
            "<class 'set'>\n",
            "{1, 2, 3, 4, 5, 6}\n"
          ],
          "name": "stdout"
        }
      ]
    },
    {
      "cell_type": "markdown",
      "metadata": {
        "id": "ZJLv1L14VhNN"
      },
      "source": [
        "# **IF-ELSE AND LOOPS**\n"
      ]
    },
    {
      "cell_type": "code",
      "metadata": {
        "colab": {
          "base_uri": "https://localhost:8080/"
        },
        "id": "mN99zil3V_9w",
        "outputId": "44805311-ca80-43be-81b7-48f4e61edc84"
      },
      "source": [
        "x=int(input())\n",
        "\n",
        "y=int(input())\n",
        "\n",
        "if x>y:\n",
        "  print(\"yes\")\n",
        "elif x==y:\n",
        "  print(\"same\")  \n",
        "else:\n",
        "  print(\"not same\")  "
      ],
      "execution_count": null,
      "outputs": [
        {
          "output_type": "stream",
          "text": [
            "2\n",
            "2\n",
            "same\n",
            "6\n",
            "69\n",
            "96\n",
            "65\n",
            "87\n",
            "78\n"
          ],
          "name": "stdout"
        }
      ]
    },
    {
      "cell_type": "code",
      "metadata": {
        "colab": {
          "base_uri": "https://localhost:8080/"
        },
        "id": "LzjJhSrBXj9w",
        "outputId": "455bcfa3-2473-4fa1-d2d6-65f67204edf2"
      },
      "source": [
        "#for loop\n",
        "t=[69,96,65,87,78] \n",
        "for i in range(len(t)):\n",
        "  print(t[i])"
      ],
      "execution_count": null,
      "outputs": [
        {
          "output_type": "stream",
          "text": [
            "6\n",
            "69\n",
            "96\n",
            "65\n",
            "87\n",
            "78\n"
          ],
          "name": "stdout"
        }
      ]
    },
    {
      "cell_type": "code",
      "metadata": {
        "colab": {
          "base_uri": "https://localhost:8080/"
        },
        "id": "4CEM6eE0XqzS",
        "outputId": "7fb2b38a-fffc-411f-8153-1416030d84aa"
      },
      "source": [
        "#while loop\n",
        "n=int(input()) \n",
        "while n!=0:\n",
        "  print(\"huehue\")\n",
        "  n-=1"
      ],
      "execution_count": null,
      "outputs": [
        {
          "output_type": "stream",
          "text": [
            "5\n",
            "huehue\n",
            "huehue\n",
            "huehue\n",
            "huehue\n",
            "huehue\n"
          ],
          "name": "stdout"
        }
      ]
    },
    {
      "cell_type": "markdown",
      "metadata": {
        "id": "umyNHN1tYYiO"
      },
      "source": [
        "# **FUNCTIONS**"
      ]
    },
    {
      "cell_type": "code",
      "metadata": {
        "id": "lwwA1ld_Yfe8",
        "colab": {
          "base_uri": "https://localhost:8080/"
        },
        "outputId": "6fc28019-282d-499b-e89e-4af2ecc938f0"
      },
      "source": [
        "#SAMPLE FUNCTION\n",
        "def abc(x):\n",
        "  ans = x**(x+2)\n",
        "  return ans\n",
        "y=abc(int(input()))\n",
        "print(y)  \n",
        "\n",
        "#multiple arguments\n",
        "def abc(x,y):\n",
        "  z=x+y\n",
        "  return z\n",
        "print(abc(int(input()),int(input())))\n",
        "\n",
        "#arbitrary arguments\n",
        "def abc(*d):\n",
        "  ans=[]\n",
        "  for i in range(len(d)):\n",
        "    ans.append(d[i])\n",
        "  return ans\n",
        "print(abc(1,2,3,\"doge\"))    \n",
        "\n",
        "#keyword arguments\n",
        "def abc(a,b,c):\n",
        "  c=a*b+c\n",
        "  return c\n",
        "print(abc(a=int(input()),b=int(input()),c=int(input())))  \n",
        "\n",
        "# arbitrary keyword argument\n",
        "def abc(**com):\n",
        "  print(com[\"b\"]+com[\"c\"])\n",
        "\n",
        "abc(a=1,b=2,c=3)  \n",
        "\n"
      ],
      "execution_count": null,
      "outputs": [
        {
          "output_type": "stream",
          "text": [
            "5\n",
            "78125\n",
            "6\n",
            "9\n",
            "15\n",
            "[1, 2, 3, 'doge']\n",
            "10\n",
            "11\n",
            "12\n",
            "122\n",
            "5\n"
          ],
          "name": "stdout"
        }
      ]
    },
    {
      "cell_type": "markdown",
      "metadata": {
        "id": "eRxneb7wIiTl"
      },
      "source": [
        "# **FILE HANDLING**\n"
      ]
    },
    {
      "cell_type": "code",
      "metadata": {
        "id": "GUzLdUt_JF0t"
      },
      "source": [
        "#File io basics\n",
        "\"\"\"\n",
        "\"r\"-open file for reading -default\n",
        "\"w\"-open file for writing\n",
        "\"x\"-creates file if not exists\n",
        "\"a\"- append a file\n",
        "\"t\"- text mode\n",
        "\"b\"- binary mode\n",
        "\"+\"read and write\n",
        "\"\"\"\n",
        "\n",
        "\n",
        "# f=open(\"shiv.txt\",\"rt\")\n",
        "# x=f.read()\n",
        "# print(x)\n",
        "# f.close()\n",
        "# for line in f:\n",
        "#     print(line)\n",
        "# print(f.readline())\n",
        "# print(f.readlines())\n",
        "# f.close()"
      ],
      "execution_count": null,
      "outputs": []
    },
    {
      "cell_type": "code",
      "metadata": {
        "id": "6yv9y5oo0AaM"
      },
      "source": [
        "\n",
        "#WRITING AND APPENDING A FILE\n",
        "# f=open(\"shiva.txt\",\"w\")\n",
        "# for i in range(5):\n",
        "#     f.write(input())\n",
        "#     f.write(\"\\n\")\n",
        "# # f.close()\n",
        "# f=open(\"shiva.txt\",\"r\")    \n",
        "# # x=f1.read()\n",
        "# x=f.readlines()\n",
        "# print(x)\n",
        "# f=open(\"shiva.txt\",\"a\")\n",
        "# a=f.write(\"hello\")\n",
        "# print(a)\n",
        "\n",
        "\n",
        "# Handle read and write both\n",
        "# f=open(\"shiva.txt\",\"r+\")\n",
        "# print(f.read())\n",
        "# f.write(\"\\nGOOD bye\")"
      ],
      "execution_count": null,
      "outputs": []
    },
    {
      "cell_type": "code",
      "metadata": {
        "colab": {
          "base_uri": "https://localhost:8080/",
          "height": 52
        },
        "id": "ra9-G-HP7NZA",
        "outputId": "c9bc1963-3c12-4b46-bb8b-68eca7a3973c"
      },
      "source": [
        "#SEEK() and TELL() functions\n",
        "\"\"\"\n",
        "f=open(\"shiva.txt\")\n",
        "print(f.tell()) #tells the current position of the file pointer\n",
        "print(f.readline())\n",
        "# print(f.tell())\n",
        "f.seek(0) # initializes file pointer as desired \n",
        "print(f.readline())\n",
        "# print(f.tell())\n",
        "print(f.readline())\n",
        "# print(f.tell())\n",
        "f.close()\n",
        "\"\"\""
      ],
      "execution_count": null,
      "outputs": [
        {
          "output_type": "execute_result",
          "data": {
            "application/vnd.google.colaboratory.intrinsic+json": {
              "type": "string"
            },
            "text/plain": [
              "'\\nf=open(\"shiva.txt\")\\nprint(f.tell()) #tells the current position of the file pointer\\nprint(f.readline())\\n# print(f.tell())\\nf.seek(0) # initializes file pointer as desired \\nprint(f.readline())\\n# print(f.tell())\\nprint(f.readline())\\n# print(f.tell())\\nf.close()\\n'"
            ]
          },
          "metadata": {
            "tags": []
          },
          "execution_count": 3
        }
      ]
    },
    {
      "cell_type": "code",
      "metadata": {
        "colab": {
          "base_uri": "https://localhost:8080/",
          "height": 35
        },
        "id": "mFTthe0e7ZTa",
        "outputId": "1a1cf7db-df0b-42d2-8f74-2bf667941394"
      },
      "source": [
        "# with block\n",
        "\"\"\"\n",
        "with open(\"shiva.txt\") as f:\n",
        "    x=f.read()\n",
        "    print(x)\n",
        "\n",
        "\n",
        "# f=open(\"shiva.txt\",\"rt\")\n",
        "# print(f.read())\n",
        "\"\"\""
      ],
      "execution_count": null,
      "outputs": [
        {
          "output_type": "execute_result",
          "data": {
            "application/vnd.google.colaboratory.intrinsic+json": {
              "type": "string"
            },
            "text/plain": [
              "'\\nwith open(\"shiva.txt\") as f:\\n    x=f.read()\\n    print(x)\\n\\n\\n# f=open(\"shiva.txt\",\"rt\")\\n# print(f.read())\\n'"
            ]
          },
          "metadata": {
            "tags": []
          },
          "execution_count": 4
        }
      ]
    },
    {
      "cell_type": "markdown",
      "metadata": {
        "id": "BxVPOcwunNkk"
      },
      "source": [
        "# **Variable scope and global variable**"
      ]
    },
    {
      "cell_type": "code",
      "metadata": {
        "colab": {
          "base_uri": "https://localhost:8080/"
        },
        "id": "Dvxe3AosompS",
        "outputId": "dcb38211-3f87-4fa3-f07d-ba738f9d7f24"
      },
      "source": [
        "x=45 #global variable\n",
        "def abc():\n",
        "  x=20\n",
        "  def xyz():\n",
        "    global x #accessing global variable\n",
        "    x=45*2\n",
        "  print(\"x before calling xyz()\",x)\n",
        "  xyz()\n",
        "  print(\"x after calling xyz()\",x)  \n",
        "abc()\n",
        "print(x) #after changing clobal variable in xyz() function"
      ],
      "execution_count": null,
      "outputs": [
        {
          "output_type": "stream",
          "text": [
            "x before calling xyz() 20\n",
            "x after calling xyz() 20\n",
            "90\n"
          ],
          "name": "stdout"
        }
      ]
    },
    {
      "cell_type": "markdown",
      "metadata": {
        "id": "_kIZ2ZrdqwkR"
      },
      "source": [
        "# **Recursions**"
      ]
    },
    {
      "cell_type": "code",
      "metadata": {
        "id": "oERwNGfaq-RX",
        "colab": {
          "base_uri": "https://localhost:8080/"
        },
        "outputId": "5208fb60-77d5-45be-9ec7-70e8c5af6dee"
      },
      "source": [
        "#finding factorial using recursions\n",
        "def fac(n):\n",
        "  if n==1:\n",
        "    return 1\n",
        "  else:\n",
        "    return n*fac(n-1)\n",
        "n=int(input())\n",
        "fac(n)      "
      ],
      "execution_count": null,
      "outputs": [
        {
          "output_type": "stream",
          "text": [
            "5\n"
          ],
          "name": "stdout"
        },
        {
          "output_type": "execute_result",
          "data": {
            "text/plain": [
              "120"
            ]
          },
          "metadata": {
            "tags": []
          },
          "execution_count": 2
        }
      ]
    },
    {
      "cell_type": "code",
      "metadata": {
        "colab": {
          "base_uri": "https://localhost:8080/"
        },
        "id": "WaRS_p0nIbNf",
        "outputId": "1b793d26-43b2-4d18-dbd0-adad61a0df6f"
      },
      "source": [
        "#finding fibonacci series number using recursion\n",
        "def fib(n):\n",
        "  if n==1:\n",
        "    return 0\n",
        "  elif n==2:\n",
        "    return 1\n",
        "  else:\n",
        "    return (fib(n-1)+fib(n-2))\n",
        "n=int(input())\n",
        "fib(n)      \n"
      ],
      "execution_count": null,
      "outputs": [
        {
          "output_type": "stream",
          "text": [
            "7\n"
          ],
          "name": "stdout"
        },
        {
          "output_type": "execute_result",
          "data": {
            "text/plain": [
              "8"
            ]
          },
          "metadata": {
            "tags": []
          },
          "execution_count": 6
        }
      ]
    },
    {
      "cell_type": "code",
      "metadata": {
        "colab": {
          "base_uri": "https://localhost:8080/"
        },
        "id": "zs4K5v1UKezp",
        "outputId": "a5b16969-08a5-4681-ab04-d01d38ef1ddf"
      },
      "source": [
        "#finding average of number using recursion\n",
        "def avg(n):\n",
        "  if n==1:\n",
        "    return 1\n",
        "  else:\n",
        "    return n+avg(n-1)\n",
        "n=int(input())\n",
        "ans=avg(n)/n\n",
        "print(ans)      "
      ],
      "execution_count": null,
      "outputs": [
        {
          "output_type": "stream",
          "text": [
            "17\n",
            "9.0\n"
          ],
          "name": "stdout"
        }
      ]
    },
    {
      "cell_type": "markdown",
      "metadata": {
        "id": "xD4wOaH1L5E3"
      },
      "source": [
        "# **Lambda Function**"
      ]
    },
    {
      "cell_type": "code",
      "metadata": {
        "colab": {
          "base_uri": "https://localhost:8080/"
        },
        "id": "loC3J7nVL_f0",
        "outputId": "949d5a6b-2572-4cb3-d5d2-d841c40c3d18"
      },
      "source": [
        "# Lambda function or anonymous function can be used instaed of creating a function manually\n",
        "a=lambda x,y:x*y\n",
        "ans=a(int(input()),int(input()))\n",
        "print(ans)"
      ],
      "execution_count": null,
      "outputs": [
        {
          "output_type": "stream",
          "text": [
            "5\n",
            "5\n",
            "25\n"
          ],
          "name": "stdout"
        }
      ]
    },
    {
      "cell_type": "code",
      "metadata": {
        "id": "ax3vd6gQN_DG"
      },
      "source": [
        "a=[[1,7],[5,4],[2,6]]\n",
        "for i in a:\n",
        "  i.sort()\n",
        "a.sort(key=lambda x:x[1])\n",
        "print(a)"
      ],
      "execution_count": null,
      "outputs": []
    },
    {
      "cell_type": "markdown",
      "metadata": {
        "id": "9S9kj9MZQsGL"
      },
      "source": [
        ""
      ]
    },
    {
      "cell_type": "markdown",
      "metadata": {
        "id": "n-aY3RcfjCJd"
      },
      "source": [
        "# **Python Modules**"
      ]
    },
    {
      "cell_type": "code",
      "metadata": {
        "colab": {
          "base_uri": "https://localhost:8080/"
        },
        "id": "GWg_hhQfjIAK",
        "outputId": "f7fafeab-6788-4d75-b535-8a97375cc0af"
      },
      "source": [
        "#Modules can be imported in the code wherein modules have inbuilt submodules and functions which can be accessed in the function\n",
        "# ramdom module\n",
        "import random\n",
        "x=random.randint(0,1)\n",
        "b=random.random()\n",
        "print(b)\n",
        "\n",
        "lst=[\"a\",\"b\",\"c\"]\n",
        "z=random.choice(lst)\n",
        "print(z)"
      ],
      "execution_count": null,
      "outputs": [
        {
          "output_type": "stream",
          "text": [
            "0.8340959684278987\n",
            "b\n"
          ],
          "name": "stdout"
        }
      ]
    },
    {
      "cell_type": "code",
      "metadata": {
        "colab": {
          "base_uri": "https://localhost:8080/"
        },
        "id": "3vG3Sh1zFUlp",
        "outputId": "e9149736-c747-458e-b87f-b19a1d07bac4"
      },
      "source": [
        "#Time Module\n",
        "import time\n",
        "initial=time.time()\n",
        "for i in range(5):\n",
        "  print(\"x\") \n",
        "print(time.time()-initial) # time taken for running\"for\" loop\n",
        "s=time.time()\n",
        "y=0\n",
        "while (y<5):\n",
        "  y+=1\n",
        "  time.sleep(2)\n",
        "  print(\"x\")\n",
        "print(time.time()-s)  # to calculate time taken for while loop\n",
        " \n",
        "lc= time.asctime(time.localtime(time.time()))\n",
        "print(lc)"
      ],
      "execution_count": null,
      "outputs": [
        {
          "output_type": "stream",
          "text": [
            "x\n",
            "x\n",
            "x\n",
            "x\n",
            "x\n",
            "0.003096342086791992\n",
            "x\n",
            "x\n",
            "x\n",
            "x\n",
            "x\n",
            "10.01152229309082\n",
            "Thu Jul 22 17:05:08 2021\n"
          ],
          "name": "stdout"
        }
      ]
    },
    {
      "cell_type": "markdown",
      "metadata": {
        "id": "fTyxmLjZuGbb"
      },
      "source": [
        "# **F-strings and string formatting**"
      ]
    },
    {
      "cell_type": "code",
      "metadata": {
        "colab": {
          "base_uri": "https://localhost:8080/"
        },
        "id": "fDBtmMUXuMJ9",
        "outputId": "efb2c3c3-3991-4a46-b271-29f0fa2f830c"
      },
      "source": [
        "#string formatting\n",
        "a=input()\n",
        "me=\"done\"\n",
        "y=\"this is %s %s\" %(a,me)\n",
        "print(y)\n"
      ],
      "execution_count": null,
      "outputs": [
        {
          "output_type": "stream",
          "text": [
            "ok\n",
            "this is ok done\n"
          ],
          "name": "stdout"
        }
      ]
    },
    {
      "cell_type": "code",
      "metadata": {
        "colab": {
          "base_uri": "https://localhost:8080/"
        },
        "id": "KaPbI-ZQvMTC",
        "outputId": "e2d8a217-9335-42c1-8c86-2f49a5c6bbe9"
      },
      "source": [
        "#dot format\n",
        "a=\"hi\"\n",
        "b=\"helli\"\n",
        "c=\"this is {} {}\"\n",
        "d=c.format(a,b)\n",
        "print(d)\n"
      ],
      "execution_count": null,
      "outputs": [
        {
          "output_type": "stream",
          "text": [
            "this is hi helli\n"
          ],
          "name": "stdout"
        }
      ]
    },
    {
      "cell_type": "code",
      "metadata": {
        "colab": {
          "base_uri": "https://localhost:8080/"
        },
        "id": "GJ32oCPivzHd",
        "outputId": "c29baae0-b725-4e05-9aae-ae50183d4e1c"
      },
      "source": [
        "#f string formatting\n",
        "a=\"hi\"\n",
        "b=\"shiv\"\n",
        "a=f\"this is {a} {b}\"\n",
        "print(a)"
      ],
      "execution_count": null,
      "outputs": [
        {
          "output_type": "stream",
          "text": [
            "this is hi shiv\n"
          ],
          "name": "stdout"
        }
      ]
    },
    {
      "cell_type": "markdown",
      "metadata": {
        "id": "iEjsBOUWw16n"
      },
      "source": [
        "# *** args and ** kwargs**"
      ]
    },
    {
      "cell_type": "code",
      "metadata": {
        "id": "j51q16lFxURW",
        "colab": {
          "base_uri": "https://localhost:8080/"
        },
        "outputId": "21bd0f00-8c07-4627-8c13-75847bef3123"
      },
      "source": [
        "def abc(normal,*args): #a normal argument must be before * args\n",
        "  for i in args:\n",
        "    print(normal,i)\n",
        "a=[\"a\",\"b\",\"c\",\"d\"]\n",
        "abc(\"this is shiv\",*a)    "
      ],
      "execution_count": null,
      "outputs": [
        {
          "output_type": "stream",
          "text": [
            "this is shiv a\n",
            "this is shiv b\n",
            "this is shiv c\n",
            "this is shiv d\n"
          ],
          "name": "stdout"
        }
      ]
    },
    {
      "cell_type": "code",
      "metadata": {
        "colab": {
          "base_uri": "https://localhost:8080/"
        },
        "id": "aaApOWAxjuMe",
        "outputId": "198713e7-b53d-4bb5-a7d0-5cd5fd904c7e"
      },
      "source": [
        "def xyz(**kwargs):\n",
        "  for key,value in kwargs.items():\n",
        "    print(key,value)\n",
        "lst={\"a\":2,\"c\":1,\"b\":3}\n",
        "xyz(**lst)    "
      ],
      "execution_count": null,
      "outputs": [
        {
          "output_type": "stream",
          "text": [
            "a 1\n",
            "b 2\n",
            "c 3\n"
          ],
          "name": "stdout"
        }
      ]
    },
    {
      "cell_type": "markdown",
      "metadata": {
        "id": "ttOtYQrQLoeN"
      },
      "source": [
        "# **Enumerate() and join() function**"
      ]
    },
    {
      "cell_type": "code",
      "metadata": {
        "id": "z1ECIHxiLueW",
        "colab": {
          "base_uri": "https://localhost:8080/"
        },
        "outputId": "7ec26a98-ca5e-4790-97a2-3c42e647ad3e"
      },
      "source": [
        "#enumerate can be used to access both index and elements of the loop together\n",
        "lst=[\"a\",\"b\",\"c\",\"d\"]\n",
        "for index,i in enumerate(lst):\n",
        "  if index%2!=0:\n",
        "    \n",
        "    print(i)"
      ],
      "execution_count": 5,
      "outputs": [
        {
          "output_type": "stream",
          "text": [
            "b\n",
            "d\n"
          ],
          "name": "stdout"
        }
      ]
    },
    {
      "cell_type": "code",
      "metadata": {
        "colab": {
          "base_uri": "https://localhost:8080/"
        },
        "id": "yo3xw_V8VAUw",
        "outputId": "c0dfdc04-711c-4d09-f46a-3c7156b25d71"
      },
      "source": [
        "#join() function can be used instead of for loop if we want to join elements of list \n",
        "lst=[\"12\",'1','3','4','5','6','7','8','9']\n",
        "a=\" and \".join(lst)\n",
        "print(a)\n"
      ],
      "execution_count": 8,
      "outputs": [
        {
          "output_type": "stream",
          "text": [
            "12 and 1 and 3 and 4 and 5 and 6 and 7 and 8 and 9\n"
          ],
          "name": "stdout"
        }
      ]
    },
    {
      "cell_type": "markdown",
      "metadata": {
        "id": "lLZKE_twUkYG"
      },
      "source": [
        ""
      ]
    },
    {
      "cell_type": "markdown",
      "metadata": {
        "id": "7SzlZ6LHbn9P"
      },
      "source": [
        "# **if__name__=='__main__': function**"
      ]
    },
    {
      "cell_type": "code",
      "metadata": {
        "id": "Kecbl9AYbzDq"
      },
      "source": [
        "''' \n",
        "'main' function is particularly used when we want to access only\n",
        "a selected part of a particular code.\n",
        "\n",
        "main function bacisally specifies the area under it as a type(main) and the rest\n",
        "region is the file name with which we import hence differentiating between the areas we can access the desired area of code \n",
        "\n",
        "'''\n",
        "\n",
        "def abc(strng):\n",
        "    return f\"hi {strng}\"\n",
        "def xyz(a,b,c):\n",
        "    \n",
        "    print(\"name is :\",__name__)\n",
        "    return a+b+c\n",
        "# print(abc(\"shivanand\"))\n",
        "# print(xyz(1,2,3))\n",
        "    \n",
        "\n",
        "if __name__== '__main__':\n",
        "    # print(\"sjyefgisa\")\n",
        "    def ch(x):\n",
        "        print(\"name is :\",__name__)\n",
        "        return x+2\n",
        "    print(ch(2))    \n",
        "    print(abc(\"shivanand\"))\n",
        "    print(xyz(1,2,3))\n",
        "    "
      ],
      "execution_count": null,
      "outputs": []
    },
    {
      "cell_type": "markdown",
      "metadata": {
        "id": "WdYOxoxEybKg"
      },
      "source": [
        "# **Map,Filter and Reduce**"
      ]
    },
    {
      "cell_type": "code",
      "metadata": {
        "colab": {
          "base_uri": "https://localhost:8080/"
        },
        "id": "pAgd216oyvdX",
        "outputId": "4e6e76aa-fd44-4ce7-ad81-1f787d658835"
      },
      "source": [
        "#map function\n",
        "# (a,c,d)=map(int,input().split())\n",
        "# print(a,c,d)\n",
        "\n",
        "#converting a str list to int list\n",
        "a=[\"1\",\"2\",\"3\",\"4\"]\n",
        "b=list(map(int,a))\n",
        "print(b)\n",
        "\n",
        "#merging lanbda with map\n",
        "x=[1,2,3,4,5,6,7,8]\n",
        "ans=list(map(lambda s:s+2,x))\n",
        "print(ans)\n",
        "\n",
        "#accessing fuction in a list using lambda and map\n",
        "def square(a):\n",
        "  return a*a\n",
        "def cube(a):\n",
        "  return a*a*a\n",
        "lst=[square,cube]\n",
        "for i in range(5):\n",
        "  d=list(map(lambda x:x(i),lst))\n",
        "  print(d)    \n",
        "\n"
      ],
      "execution_count": 21,
      "outputs": [
        {
          "output_type": "stream",
          "text": [
            "[1, 2, 3, 4]\n",
            "[3, 4, 5, 6, 7, 8, 9, 10]\n",
            "[0, 0]\n",
            "[1, 1]\n",
            "[4, 8]\n",
            "[9, 27]\n",
            "[16, 64]\n"
          ],
          "name": "stdout"
        }
      ]
    },
    {
      "cell_type": "code",
      "metadata": {
        "colab": {
          "base_uri": "https://localhost:8080/"
        },
        "id": "wTc2_Glh87TO",
        "outputId": "633b8394-b398-4c69-bd57-96879f86632b"
      },
      "source": [
        "#filter\n",
        "lst=[1,2,3,4,5,6,7,8,9,10]\n",
        "def gre(n):\n",
        "  return n>5\n",
        "x=list(filter(gre,lst))\n",
        "print(x)  "
      ],
      "execution_count": 22,
      "outputs": [
        {
          "output_type": "stream",
          "text": [
            "[6, 7, 8, 9, 10]\n"
          ],
          "name": "stdout"
        }
      ]
    },
    {
      "cell_type": "code",
      "metadata": {
        "colab": {
          "base_uri": "https://localhost:8080/"
        },
        "id": "XdPkEidY9mkY",
        "outputId": "fa024185-0d15-4434-da19-ea1b8e5c6ab0"
      },
      "source": [
        "#Reduce\n",
        "from functools import reduce\n",
        "lsr=[1,2,3,4,5]\n",
        "a=reduce(lambda x,y:x+y,lsr)\n",
        "print(a)"
      ],
      "execution_count": 23,
      "outputs": [
        {
          "output_type": "stream",
          "text": [
            "15\n"
          ],
          "name": "stdout"
        }
      ]
    },
    {
      "cell_type": "markdown",
      "metadata": {
        "id": "VwQsYHVpGSH4"
      },
      "source": [
        "# **Decorators**"
      ]
    },
    {
      "cell_type": "code",
      "metadata": {
        "colab": {
          "base_uri": "https://localhost:8080/"
        },
        "id": "Q9O_E87bGU_K",
        "outputId": "e57897fa-ee1d-4f4b-ad34-a097747a4ae3"
      },
      "source": [
        "#Decorators are used to run a function inside a function\n",
        "def abc(sum):\n",
        "  def avg():\n",
        "    print(\"hi\")\n",
        "    a=sum()\n",
        "    print(sum())\n",
        "    print(\"Avg is :\",a/3)\n",
        "  return avg\n",
        "@abc\n",
        "def sum():\n",
        "  return 1+2+3  \n",
        "sum()\n",
        "\n"
      ],
      "execution_count": 31,
      "outputs": [
        {
          "output_type": "stream",
          "text": [
            "hi\n",
            "6\n",
            "Avg is : 2.0\n"
          ],
          "name": "stdout"
        }
      ]
    },
    {
      "cell_type": "markdown",
      "metadata": {
        "id": "jK14DQ5iLc6Y"
      },
      "source": [
        "# **OOPS (classes and objects)**"
      ]
    },
    {
      "cell_type": "code",
      "metadata": {
        "colab": {
          "base_uri": "https://localhost:8080/"
        },
        "id": "EcI5SoyNLivM",
        "outputId": "6ebb2de1-d6bd-43e1-9434-d3552b165701"
      },
      "source": [
        "''' \n",
        "Class: A class is the building block that leads to Object-Oriented Programming. It is a user-defined data type, that holds its \n",
        "own data members and member functions, which can be accessed and used by creating an instance of that class. It is the blueprint of any object.\n",
        "\n",
        "Object: An object is an instance of a class. All data members and member functions of the class can be accessed with the help of objects.\n",
        "When a class is defined, no memory is allocated but when it is instantiated (i.e. an object is created), memory is allocated.\n",
        "For example, considering the objects for the Account class is Saving account, Current account, etc\n",
        "'''\n",
        "class stu: #class\n",
        "  pass\n",
        "a=stu() #creating object\n",
        "b=stu()\n",
        "a.name=\"Shiv\" #initializing instance variables\n",
        "a.sec=\"b\"\n",
        "b.name=\"sam\"\n",
        "b.sec=\"d\"\n",
        "print(a.name,b.name)"
      ],
      "execution_count": 33,
      "outputs": [
        {
          "output_type": "stream",
          "text": [
            "Shiv sam\n"
          ],
          "name": "stdout"
        }
      ]
    },
    {
      "cell_type": "code",
      "metadata": {
        "colab": {
          "base_uri": "https://localhost:8080/"
        },
        "id": "r0NOzHx8Q5Hb",
        "outputId": "981c7736-94be-42df-b3c9-e3d8a258b8f3"
      },
      "source": [
        "#instance variables and class variables\n",
        "class emp:\n",
        "  c=69 #class variable\n",
        "  pass\n",
        "a=emp()\n",
        "b=emp()  \n",
        "a.name=\"harry\" #instance variable\n",
        "b.name=\"shiv\"\n",
        "print(a.c)\n",
        "a.c=6969\n",
        "print(a.__dict__)\n",
        "print(emp.c)"
      ],
      "execution_count": 36,
      "outputs": [
        {
          "output_type": "stream",
          "text": [
            "69\n",
            "{'name': 'harry', 'c': 6969}\n",
            "69\n"
          ],
          "name": "stdout"
        }
      ]
    }
  ]
}