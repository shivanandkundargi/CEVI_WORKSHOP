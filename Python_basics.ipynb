{
  "nbformat": 4,
  "nbformat_minor": 0,
  "metadata": {
    "colab": {
      "name": "Python_basics.ipynb",
      "provenance": [],
      "collapsed_sections": [
        "DvDmDdfOhO8I",
        "3U3Y9s1zmWBe",
        "7KrIM8iJ9FM4"
      ],
      "authorship_tag": "ABX9TyPJlCIxlv06duV3Uew9Fd7K",
      "include_colab_link": true
    },
    "kernelspec": {
      "name": "python3",
      "display_name": "Python 3"
    },
    "language_info": {
      "name": "python"
    }
  },
  "cells": [
    {
      "cell_type": "markdown",
      "metadata": {
        "id": "view-in-github",
        "colab_type": "text"
      },
      "source": [
        "<a href=\"https://colab.research.google.com/github/shivanandkundargi/PYTHON_BASICS/blob/main/Python_basics.ipynb\" target=\"_parent\"><img src=\"https://colab.research.google.com/assets/colab-badge.svg\" alt=\"Open In Colab\"/></a>"
      ]
    },
    {
      "cell_type": "markdown",
      "metadata": {
        "id": "DvDmDdfOhO8I"
      },
      "source": [
        "\n",
        "\n",
        "# **Variables,operators,input format**\n"
      ]
    },
    {
      "cell_type": "code",
      "metadata": {
        "colab": {
          "base_uri": "https://localhost:8080/"
        },
        "id": "A1U7WBoJhePo",
        "outputId": "14e371c0-ce0a-424e-e931-f170626f5515"
      },
      "source": [
        "#a,b,c=variables\n",
        "a=\"HELLO\"\n",
        "b=69\n",
        "c=69.6969\n",
        "print(a,b,c)"
      ],
      "execution_count": null,
      "outputs": [
        {
          "output_type": "stream",
          "text": [
            "HELLO 69 69.6969\n"
          ],
          "name": "stdout"
        }
      ]
    },
    {
      "cell_type": "code",
      "metadata": {
        "colab": {
          "base_uri": "https://localhost:8080/"
        },
        "id": "tcZyTovGjt63",
        "outputId": "a1e3ef23-0a22-48dd-9169-037150f50ce6"
      },
      "source": [
        "# whole division\n",
        "a=5\n",
        "b=2\n",
        "c=a//b\n",
        "print(c)\n",
        "# raise to power\n",
        "d=a**b #a^b\n",
        "print(d)"
      ],
      "execution_count": null,
      "outputs": [
        {
          "output_type": "stream",
          "text": [
            "2\n",
            "25\n"
          ],
          "name": "stdout"
        }
      ]
    },
    {
      "cell_type": "code",
      "metadata": {
        "colab": {
          "base_uri": "https://localhost:8080/"
        },
        "id": "VI4WV6R-kTRV",
        "outputId": "0971e029-dad8-459c-90ba-4d639a10b45a"
      },
      "source": [
        "#input by default will be string\n",
        "a=input()\n",
        "print(a)\n",
        "print(type(a))\n",
        "b=int(a)\n",
        "print(type(b))\n"
      ],
      "execution_count": null,
      "outputs": [
        {
          "output_type": "stream",
          "text": [
            "5\n",
            "5\n",
            "<class 'str'>\n",
            "<class 'int'>\n"
          ],
          "name": "stdout"
        }
      ]
    },
    {
      "cell_type": "markdown",
      "metadata": {
        "id": "3U3Y9s1zmWBe"
      },
      "source": [
        "# **strings,string slicing and string functions**\n",
        "[STRING FUNCTIONS](https://www.w3schools.com/python/python_ref_string.asp)"
      ]
    },
    {
      "cell_type": "code",
      "metadata": {
        "colab": {
          "base_uri": "https://localhost:8080/"
        },
        "id": "u_vmZBxlo-R2",
        "outputId": "d7e50200-002b-4db8-b196-d6ff783a6169"
      },
      "source": [
        "a=\"This is python\"\n",
        "print(a[:])\n",
        "print(a[::-1])\n",
        "print(a[0:len(a)])\n",
        "print(a[::2])\n",
        "\n",
        "x=a.upper()\n",
        "print(x)\n"
      ],
      "execution_count": null,
      "outputs": [
        {
          "output_type": "stream",
          "text": [
            "This is python\n",
            "nohtyp si sihT\n",
            "This is python\n",
            "Ti spto\n",
            "THIS IS PYTHON\n"
          ],
          "name": "stdout"
        }
      ]
    },
    {
      "cell_type": "markdown",
      "metadata": {
        "id": "7KrIM8iJ9FM4"
      },
      "source": [
        "# **LISTS AND TUPLES**\n",
        "[LIST FUNCTIONS](https://www.w3schools.com/python/python_ref_list.asp)\n",
        "\n",
        "[TUPLES BASICS](https://www.w3schools.com/python/python_tuples.asp)"
      ]
    },
    {
      "cell_type": "code",
      "metadata": {
        "colab": {
          "base_uri": "https://localhost:8080/"
        },
        "id": "7rKWklCW9N4x",
        "outputId": "1444ab85-39b7-4cfd-f535-cd930b9ff01f"
      },
      "source": [
        "#lISTS ARE MUTABLE\n",
        "a=[] #declaration of an empty list\n",
        "a=[1,1.99,\"apple\"] #lists  can take any data types\n",
        "print(a)\n",
        "b=[1,2,3,4,5,6]\n",
        "print(b[::])#list slicing\n",
        "print(b[:-3])\n",
        "print(b[::-1])\n",
        "c=[]\n",
        "c=a+b\n",
        "print(c)\n",
        "c.append(\"I am shiv\")\n",
        "print(c)\n",
        "print(c.index(1.99))\n",
        "c.remove(\"I am shiv\")\n",
        "print(c)\n",
        "\n"
      ],
      "execution_count": null,
      "outputs": [
        {
          "output_type": "stream",
          "text": [
            "[1, 1.99, 'apple']\n",
            "[1, 2, 3, 4, 5, 6]\n",
            "[1, 2, 3]\n",
            "[6, 5, 4, 3, 2, 1]\n",
            "[1, 1.99, 'apple', 1, 2, 3, 4, 5, 6]\n",
            "[1, 1.99, 'apple', 1, 2, 3, 4, 5, 6, 'I am shiv']\n",
            "1\n",
            "[1, 1.99, 'apple', 1, 2, 3, 4, 5, 6]\n"
          ],
          "name": "stdout"
        }
      ]
    },
    {
      "cell_type": "code",
      "metadata": {
        "id": "WEDDh11zEi2X",
        "colab": {
          "base_uri": "https://localhost:8080/"
        },
        "outputId": "d29510ac-9a91-4dae-e356-d7b11fa98cbd"
      },
      "source": [
        "# List comprehension\n",
        "#printing prime numbers\n",
        "n=int(input())\n",
        "a=[i for i in range(2,n) if all(i%j!=0 for j in range(2,i)) ]\n",
        "print(a)"
      ],
      "execution_count": null,
      "outputs": [
        {
          "output_type": "stream",
          "text": [
            "20\n",
            "[2, 3, 5, 7, 11, 13, 17, 19]\n"
          ],
          "name": "stdout"
        }
      ]
    },
    {
      "cell_type": "code",
      "metadata": {
        "colab": {
          "base_uri": "https://localhost:8080/"
        },
        "id": "pVqYOqrrzfGG",
        "outputId": "9d739be4-e86d-4320-ee67-19cf71d2ba07"
      },
      "source": [
        "#Tuples are immutable\n",
        "#deleting tuple element\n",
        "x=(1,2,3)\n",
        "print(x)\n",
        "list(x)\n",
        "list(y)\n",
        "y=list(x)\n",
        "y.pop()\n",
        "z=tuple(y)\n",
        "print(z)\n",
        "#appending tuples\n",
        "a=x\n",
        "print(a)\n",
        "y=(4,5)\n",
        "a+=y\n",
        "print(a)\n",
        "#unpacking tuples\n",
        "s=(1,2,3)\n",
        "(a,b,v)=s\n",
        "print(a)\n",
        "print(b)\n",
        "print(v)"
      ],
      "execution_count": null,
      "outputs": [
        {
          "output_type": "stream",
          "text": [
            "(1, 2, 3)\n",
            "(1, 2)\n",
            "(1, 2, 3)\n",
            "(1, 2, 3, 4, 5)\n",
            "1\n",
            "2\n",
            "3\n"
          ],
          "name": "stdout"
        }
      ]
    },
    {
      "cell_type": "markdown",
      "metadata": {
        "id": "h8kO_Ye633-M"
      },
      "source": [
        "# **DICTIONARY AND SETS**\n",
        "[DICTIONARY FUNCTIONS](https://www.w3schools.com/python/python_dictionaries_methods.asp)\n",
        "\n",
        "[SET FUNCTIONS](https://www.w3schools.com/python/python_sets_methods.asp)"
      ]
    },
    {
      "cell_type": "code",
      "metadata": {
        "colab": {
          "base_uri": "https://localhost:8080/"
        },
        "id": "dnZz1Q203_XZ",
        "outputId": "a17726b6-a5d3-4fb4-9f3d-1e9472aa05c0"
      },
      "source": [
        "dict={1:\"ram\",2:\"rahim\",3:\"allah\"}\n",
        "#accesing keys\n",
        "print(dict.keys())\n",
        "#accessing values\n",
        "print(dict.values())\n",
        "# get method\n",
        "a=dict.get(1)\n",
        "print(a)\n"
      ],
      "execution_count": null,
      "outputs": [
        {
          "output_type": "stream",
          "text": [
            "dict_keys([1, 2, 3])\n",
            "dict_values(['ram', 'rahim', 'allah'])\n",
            "ram\n"
          ],
          "name": "stdout"
        }
      ]
    },
    {
      "cell_type": "code",
      "metadata": {
        "colab": {
          "base_uri": "https://localhost:8080/"
        },
        "id": "tMnTlP-vHb_h",
        "outputId": "d1d64665-81ec-4a3a-d3e6-d6a99f9584d7"
      },
      "source": [
        "#sets\n",
        "x={1,2,1,2,3,4,5}\n",
        "print(x)\n",
        "print(type(x))\n",
        "x.add(6)\n",
        "print(x)"
      ],
      "execution_count": null,
      "outputs": [
        {
          "output_type": "stream",
          "text": [
            "{1, 2, 3, 4, 5}\n",
            "<class 'set'>\n",
            "{1, 2, 3, 4, 5, 6}\n"
          ],
          "name": "stdout"
        }
      ]
    },
    {
      "cell_type": "markdown",
      "metadata": {
        "id": "ZJLv1L14VhNN"
      },
      "source": [
        "# **IF-ELSE AND LOOPS**\n"
      ]
    },
    {
      "cell_type": "code",
      "metadata": {
        "colab": {
          "base_uri": "https://localhost:8080/"
        },
        "id": "mN99zil3V_9w",
        "outputId": "44805311-ca80-43be-81b7-48f4e61edc84"
      },
      "source": [
        "x=int(input())\n",
        "\n",
        "y=int(input())\n",
        "\n",
        "if x>y:\n",
        "  print(\"yes\")\n",
        "elif x==y:\n",
        "  print(\"same\")  \n",
        "else:\n",
        "  print(\"not same\")  "
      ],
      "execution_count": null,
      "outputs": [
        {
          "output_type": "stream",
          "text": [
            "2\n",
            "2\n",
            "same\n",
            "6\n",
            "69\n",
            "96\n",
            "65\n",
            "87\n",
            "78\n"
          ],
          "name": "stdout"
        }
      ]
    },
    {
      "cell_type": "code",
      "metadata": {
        "colab": {
          "base_uri": "https://localhost:8080/"
        },
        "id": "LzjJhSrBXj9w",
        "outputId": "455bcfa3-2473-4fa1-d2d6-65f67204edf2"
      },
      "source": [
        "#for loop\n",
        "t=[69,96,65,87,78] \n",
        "for i in range(len(t)):\n",
        "  print(t[i])"
      ],
      "execution_count": null,
      "outputs": [
        {
          "output_type": "stream",
          "text": [
            "6\n",
            "69\n",
            "96\n",
            "65\n",
            "87\n",
            "78\n"
          ],
          "name": "stdout"
        }
      ]
    },
    {
      "cell_type": "code",
      "metadata": {
        "colab": {
          "base_uri": "https://localhost:8080/"
        },
        "id": "4CEM6eE0XqzS",
        "outputId": "7fb2b38a-fffc-411f-8153-1416030d84aa"
      },
      "source": [
        "#while loop\n",
        "n=int(input()) \n",
        "while n!=0:\n",
        "  print(\"huehue\")\n",
        "  n-=1"
      ],
      "execution_count": null,
      "outputs": [
        {
          "output_type": "stream",
          "text": [
            "5\n",
            "huehue\n",
            "huehue\n",
            "huehue\n",
            "huehue\n",
            "huehue\n"
          ],
          "name": "stdout"
        }
      ]
    },
    {
      "cell_type": "markdown",
      "metadata": {
        "id": "umyNHN1tYYiO"
      },
      "source": [
        "# **FUNCTIONS**"
      ]
    },
    {
      "cell_type": "code",
      "metadata": {
        "id": "lwwA1ld_Yfe8",
        "colab": {
          "base_uri": "https://localhost:8080/"
        },
        "outputId": "7891cfdc-ea0b-409b-9e4e-4451b77240cc"
      },
      "source": [
        "#SAMPLE FUNCTION\n",
        "def abc(x):\n",
        "  ans = x**(x+2)\n",
        "  return ans\n",
        "y=abc(int(input()))\n",
        "print(y)  \n",
        "\n"
      ],
      "execution_count": 86,
      "outputs": [
        {
          "output_type": "stream",
          "text": [
            "5\n",
            "78125\n"
          ],
          "name": "stdout"
        }
      ]
    }
  ]
}